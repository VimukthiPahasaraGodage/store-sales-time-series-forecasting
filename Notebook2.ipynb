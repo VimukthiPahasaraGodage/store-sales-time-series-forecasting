{
 "cells": [
  {
   "cell_type": "code",
   "execution_count": 48,
   "metadata": {
    "collapsed": true,
    "ExecuteTime": {
     "end_time": "2023-09-23T19:35:26.850726300Z",
     "start_time": "2023-09-23T19:35:26.837556100Z"
    }
   },
   "outputs": [],
   "source": [
    "import pandas as pd"
   ]
  },
  {
   "cell_type": "code",
   "execution_count": 49,
   "outputs": [],
   "source": [
    "sub = pd.read_csv('submission.csv')"
   ],
   "metadata": {
    "collapsed": false,
    "ExecuteTime": {
     "end_time": "2023-09-23T19:35:27.001482600Z",
     "start_time": "2023-09-23T19:35:26.992104300Z"
    }
   }
  },
  {
   "cell_type": "code",
   "execution_count": 50,
   "outputs": [
    {
     "data": {
      "text/plain": "4095126.513129394"
     },
     "execution_count": 50,
     "metadata": {},
     "output_type": "execute_result"
    }
   ],
   "source": [
    "sub['sales'].max()"
   ],
   "metadata": {
    "collapsed": false,
    "ExecuteTime": {
     "end_time": "2023-09-23T19:35:27.142615800Z",
     "start_time": "2023-09-23T19:35:27.137583700Z"
    }
   }
  },
  {
   "cell_type": "code",
   "execution_count": 51,
   "outputs": [
    {
     "data": {
      "text/plain": "-15794628.73348692"
     },
     "execution_count": 51,
     "metadata": {},
     "output_type": "execute_result"
    }
   ],
   "source": [
    "sub['sales'].min()"
   ],
   "metadata": {
    "collapsed": false,
    "ExecuteTime": {
     "end_time": "2023-09-23T19:35:27.270589400Z",
     "start_time": "2023-09-23T19:35:27.266052500Z"
    }
   }
  },
  {
   "cell_type": "code",
   "execution_count": 52,
   "outputs": [],
   "source": [
    "sub.loc[sub['sales'] < 0, 'sales'] = 0"
   ],
   "metadata": {
    "collapsed": false,
    "ExecuteTime": {
     "end_time": "2023-09-23T19:35:27.436150200Z",
     "start_time": "2023-09-23T19:35:27.430637800Z"
    }
   }
  },
  {
   "cell_type": "code",
   "execution_count": 53,
   "outputs": [
    {
     "data": {
      "text/plain": "0.0"
     },
     "execution_count": 53,
     "metadata": {},
     "output_type": "execute_result"
    }
   ],
   "source": [
    "sub['sales'].min()"
   ],
   "metadata": {
    "collapsed": false,
    "ExecuteTime": {
     "end_time": "2023-09-23T19:35:27.579334700Z",
     "start_time": "2023-09-23T19:35:27.573610Z"
    }
   }
  },
  {
   "cell_type": "code",
   "execution_count": 54,
   "outputs": [],
   "source": [
    "sub.to_csv('submission_1.csv', index=False)"
   ],
   "metadata": {
    "collapsed": false,
    "ExecuteTime": {
     "end_time": "2023-09-23T19:35:28.992984300Z",
     "start_time": "2023-09-23T19:35:28.948047900Z"
    }
   }
  },
  {
   "cell_type": "code",
   "execution_count": 55,
   "outputs": [],
   "source": [
    "final = pd.read_csv('final.csv')\n",
    "train = pd.read_csv('train.csv')\n",
    "\n",
    "for store in train['store_nbr'].unique():\n",
    "    for family in train['family'].unique():\n",
    "        max_val = (train[(train['store_nbr'] == store) & (train['family'] == family)])['sales'].max()\n",
    "        mean_val = (train[(train['store_nbr'] == store) & (train['family'] == family)])['sales'].mean()\n",
    "        final.loc[((final['store_nbr'] == store) & (final['family'] == family) & (final['sales'] > max_val)), 'sale'] = mean_val\n",
    "\n",
    "final.drop(['date', 'store_nbr', 'family', 'onpromotion'], inplace=True, axis=1)\n",
    "\n",
    "final.sort_values('id', inplace=True)\n",
    "\n",
    "final = final[['id', 'sales']]\n",
    "\n",
    "final.to_csv('submission_2.csv', index=False)"
   ],
   "metadata": {
    "collapsed": false,
    "ExecuteTime": {
     "end_time": "2023-09-23T19:44:04.244185700Z",
     "start_time": "2023-09-23T19:35:29.877729700Z"
    }
   }
  },
  {
   "cell_type": "code",
   "execution_count": 56,
   "outputs": [],
   "source": [
    "sub2 = pd.read_csv('submission_2.csv')\n",
    "sub2.loc[sub2['sales'] < 0.001, 'sales'] = 0\n",
    "\n",
    "sub2.to_csv('submission_3.csv', index=False)"
   ],
   "metadata": {
    "collapsed": false,
    "ExecuteTime": {
     "end_time": "2023-09-23T19:44:04.302148700Z",
     "start_time": "2023-09-23T19:44:04.246188Z"
    }
   }
  },
  {
   "cell_type": "code",
   "execution_count": null,
   "outputs": [],
   "source": [],
   "metadata": {
    "collapsed": false
   }
  }
 ],
 "metadata": {
  "kernelspec": {
   "display_name": "Python 3",
   "language": "python",
   "name": "python3"
  },
  "language_info": {
   "codemirror_mode": {
    "name": "ipython",
    "version": 2
   },
   "file_extension": ".py",
   "mimetype": "text/x-python",
   "name": "python",
   "nbconvert_exporter": "python",
   "pygments_lexer": "ipython2",
   "version": "2.7.6"
  }
 },
 "nbformat": 4,
 "nbformat_minor": 0
}
