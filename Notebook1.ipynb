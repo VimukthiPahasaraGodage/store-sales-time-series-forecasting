{
 "cells": [
  {
   "cell_type": "code",
   "execution_count": 1,
   "metadata": {
    "collapsed": true,
    "ExecuteTime": {
     "end_time": "2023-09-23T16:13:24.074253400Z",
     "start_time": "2023-09-23T16:13:23.537300300Z"
    }
   },
   "outputs": [],
   "source": [
    "import pandas as pd"
   ]
  },
  {
   "cell_type": "code",
   "execution_count": 2,
   "outputs": [],
   "source": [
    "holidays = pd.read_csv('holidays_events.csv')\n",
    "oil = pd.read_csv('oil.csv')\n",
    "train = pd.read_csv('train.csv')"
   ],
   "metadata": {
    "collapsed": false,
    "ExecuteTime": {
     "end_time": "2023-09-23T16:13:25.445211Z",
     "start_time": "2023-09-23T16:13:24.073253800Z"
    }
   }
  },
  {
   "cell_type": "code",
   "execution_count": 3,
   "outputs": [
    {
     "data": {
      "text/plain": "         date     type    locale locale_name                    description  \\\n0  2012-03-02  Holiday     Local       Manta             Fundacion de Manta   \n1  2012-04-01  Holiday  Regional    Cotopaxi  Provincializacion de Cotopaxi   \n2  2012-04-12  Holiday     Local      Cuenca            Fundacion de Cuenca   \n3  2012-04-14  Holiday     Local    Libertad      Cantonizacion de Libertad   \n4  2012-04-21  Holiday     Local    Riobamba      Cantonizacion de Riobamba   \n\n   transferred  \n0        False  \n1        False  \n2        False  \n3        False  \n4        False  ",
      "text/html": "<div>\n<style scoped>\n    .dataframe tbody tr th:only-of-type {\n        vertical-align: middle;\n    }\n\n    .dataframe tbody tr th {\n        vertical-align: top;\n    }\n\n    .dataframe thead th {\n        text-align: right;\n    }\n</style>\n<table border=\"1\" class=\"dataframe\">\n  <thead>\n    <tr style=\"text-align: right;\">\n      <th></th>\n      <th>date</th>\n      <th>type</th>\n      <th>locale</th>\n      <th>locale_name</th>\n      <th>description</th>\n      <th>transferred</th>\n    </tr>\n  </thead>\n  <tbody>\n    <tr>\n      <th>0</th>\n      <td>2012-03-02</td>\n      <td>Holiday</td>\n      <td>Local</td>\n      <td>Manta</td>\n      <td>Fundacion de Manta</td>\n      <td>False</td>\n    </tr>\n    <tr>\n      <th>1</th>\n      <td>2012-04-01</td>\n      <td>Holiday</td>\n      <td>Regional</td>\n      <td>Cotopaxi</td>\n      <td>Provincializacion de Cotopaxi</td>\n      <td>False</td>\n    </tr>\n    <tr>\n      <th>2</th>\n      <td>2012-04-12</td>\n      <td>Holiday</td>\n      <td>Local</td>\n      <td>Cuenca</td>\n      <td>Fundacion de Cuenca</td>\n      <td>False</td>\n    </tr>\n    <tr>\n      <th>3</th>\n      <td>2012-04-14</td>\n      <td>Holiday</td>\n      <td>Local</td>\n      <td>Libertad</td>\n      <td>Cantonizacion de Libertad</td>\n      <td>False</td>\n    </tr>\n    <tr>\n      <th>4</th>\n      <td>2012-04-21</td>\n      <td>Holiday</td>\n      <td>Local</td>\n      <td>Riobamba</td>\n      <td>Cantonizacion de Riobamba</td>\n      <td>False</td>\n    </tr>\n  </tbody>\n</table>\n</div>"
     },
     "execution_count": 3,
     "metadata": {},
     "output_type": "execute_result"
    }
   ],
   "source": [
    "holidays.head()"
   ],
   "metadata": {
    "collapsed": false,
    "ExecuteTime": {
     "end_time": "2023-09-23T16:13:28.810751400Z",
     "start_time": "2023-09-23T16:13:28.774088500Z"
    }
   }
  },
  {
   "cell_type": "code",
   "execution_count": 4,
   "outputs": [
    {
     "data": {
      "text/plain": "(350, 6)"
     },
     "execution_count": 4,
     "metadata": {},
     "output_type": "execute_result"
    }
   ],
   "source": [
    "holidays.shape"
   ],
   "metadata": {
    "collapsed": false,
    "ExecuteTime": {
     "end_time": "2023-09-23T16:13:39.942977700Z",
     "start_time": "2023-09-23T16:13:39.938703600Z"
    }
   }
  },
  {
   "cell_type": "code",
   "execution_count": 10,
   "outputs": [
    {
     "data": {
      "text/plain": "array(['Holiday', 'Transfer', 'Additional', 'Bridge', 'Work Day', 'Event'],\n      dtype=object)"
     },
     "execution_count": 10,
     "metadata": {},
     "output_type": "execute_result"
    }
   ],
   "source": [
    "holidays['type'].unique()"
   ],
   "metadata": {
    "collapsed": false,
    "ExecuteTime": {
     "end_time": "2023-09-23T16:17:16.762138800Z",
     "start_time": "2023-09-23T16:17:16.738547400Z"
    }
   }
  },
  {
   "cell_type": "markdown",
   "source": [],
   "metadata": {
    "collapsed": false
   }
  },
  {
   "cell_type": "code",
   "execution_count": 5,
   "outputs": [
    {
     "data": {
      "text/plain": "         date  dcoilwtico\n0  2013-01-01         NaN\n1  2013-01-02       93.14\n2  2013-01-03       92.97\n3  2013-01-04       93.12\n4  2013-01-07       93.20",
      "text/html": "<div>\n<style scoped>\n    .dataframe tbody tr th:only-of-type {\n        vertical-align: middle;\n    }\n\n    .dataframe tbody tr th {\n        vertical-align: top;\n    }\n\n    .dataframe thead th {\n        text-align: right;\n    }\n</style>\n<table border=\"1\" class=\"dataframe\">\n  <thead>\n    <tr style=\"text-align: right;\">\n      <th></th>\n      <th>date</th>\n      <th>dcoilwtico</th>\n    </tr>\n  </thead>\n  <tbody>\n    <tr>\n      <th>0</th>\n      <td>2013-01-01</td>\n      <td>NaN</td>\n    </tr>\n    <tr>\n      <th>1</th>\n      <td>2013-01-02</td>\n      <td>93.14</td>\n    </tr>\n    <tr>\n      <th>2</th>\n      <td>2013-01-03</td>\n      <td>92.97</td>\n    </tr>\n    <tr>\n      <th>3</th>\n      <td>2013-01-04</td>\n      <td>93.12</td>\n    </tr>\n    <tr>\n      <th>4</th>\n      <td>2013-01-07</td>\n      <td>93.20</td>\n    </tr>\n  </tbody>\n</table>\n</div>"
     },
     "execution_count": 5,
     "metadata": {},
     "output_type": "execute_result"
    }
   ],
   "source": [
    "oil.head()"
   ],
   "metadata": {
    "collapsed": false,
    "ExecuteTime": {
     "end_time": "2023-09-23T16:14:02.626505Z",
     "start_time": "2023-09-23T16:14:02.622492900Z"
    }
   }
  },
  {
   "cell_type": "code",
   "execution_count": 6,
   "outputs": [
    {
     "data": {
      "text/plain": "(1218, 2)"
     },
     "execution_count": 6,
     "metadata": {},
     "output_type": "execute_result"
    }
   ],
   "source": [
    "oil.shape"
   ],
   "metadata": {
    "collapsed": false,
    "ExecuteTime": {
     "end_time": "2023-09-23T16:14:11.262923600Z",
     "start_time": "2023-09-23T16:14:11.258922600Z"
    }
   }
  },
  {
   "cell_type": "code",
   "execution_count": 7,
   "outputs": [
    {
     "data": {
      "text/plain": "   id        date  store_nbr      family  sales  onpromotion\n0   0  2013-01-01          1  AUTOMOTIVE    0.0            0\n1   1  2013-01-01          1   BABY CARE    0.0            0\n2   2  2013-01-01          1      BEAUTY    0.0            0\n3   3  2013-01-01          1   BEVERAGES    0.0            0\n4   4  2013-01-01          1       BOOKS    0.0            0",
      "text/html": "<div>\n<style scoped>\n    .dataframe tbody tr th:only-of-type {\n        vertical-align: middle;\n    }\n\n    .dataframe tbody tr th {\n        vertical-align: top;\n    }\n\n    .dataframe thead th {\n        text-align: right;\n    }\n</style>\n<table border=\"1\" class=\"dataframe\">\n  <thead>\n    <tr style=\"text-align: right;\">\n      <th></th>\n      <th>id</th>\n      <th>date</th>\n      <th>store_nbr</th>\n      <th>family</th>\n      <th>sales</th>\n      <th>onpromotion</th>\n    </tr>\n  </thead>\n  <tbody>\n    <tr>\n      <th>0</th>\n      <td>0</td>\n      <td>2013-01-01</td>\n      <td>1</td>\n      <td>AUTOMOTIVE</td>\n      <td>0.0</td>\n      <td>0</td>\n    </tr>\n    <tr>\n      <th>1</th>\n      <td>1</td>\n      <td>2013-01-01</td>\n      <td>1</td>\n      <td>BABY CARE</td>\n      <td>0.0</td>\n      <td>0</td>\n    </tr>\n    <tr>\n      <th>2</th>\n      <td>2</td>\n      <td>2013-01-01</td>\n      <td>1</td>\n      <td>BEAUTY</td>\n      <td>0.0</td>\n      <td>0</td>\n    </tr>\n    <tr>\n      <th>3</th>\n      <td>3</td>\n      <td>2013-01-01</td>\n      <td>1</td>\n      <td>BEVERAGES</td>\n      <td>0.0</td>\n      <td>0</td>\n    </tr>\n    <tr>\n      <th>4</th>\n      <td>4</td>\n      <td>2013-01-01</td>\n      <td>1</td>\n      <td>BOOKS</td>\n      <td>0.0</td>\n      <td>0</td>\n    </tr>\n  </tbody>\n</table>\n</div>"
     },
     "execution_count": 7,
     "metadata": {},
     "output_type": "execute_result"
    }
   ],
   "source": [
    "train.head()"
   ],
   "metadata": {
    "collapsed": false,
    "ExecuteTime": {
     "end_time": "2023-09-23T16:15:16.931947400Z",
     "start_time": "2023-09-23T16:15:16.927421900Z"
    }
   }
  },
  {
   "cell_type": "code",
   "execution_count": 8,
   "outputs": [
    {
     "data": {
      "text/plain": "(3000888, 6)"
     },
     "execution_count": 8,
     "metadata": {},
     "output_type": "execute_result"
    }
   ],
   "source": [
    "train.shape"
   ],
   "metadata": {
    "collapsed": false,
    "ExecuteTime": {
     "end_time": "2023-09-23T16:15:27.847599500Z",
     "start_time": "2023-09-23T16:15:27.842588Z"
    }
   }
  },
  {
   "cell_type": "code",
   "execution_count": 9,
   "outputs": [
    {
     "data": {
      "text/plain": "array([  0,   3,   5,   1,  56,  20,  19,   2,   4,  18,  17,  12,   6,\n         7,  10,   9,  50,   8,  16,  42,  51,  13,  15,  47,  21,  40,\n        37,  54,  24,  58,  22,  59,  11,  45,  25,  55,  26,  43,  35,\n        14,  28,  46,  36,  32,  53,  57,  27,  39,  41,  30,  29,  49,\n        23,  48,  44,  38,  31,  52,  33,  34,  61,  60, 116,  86,  73,\n       113, 102,  68, 104,  93,  70,  92, 121,  72, 178, 174, 161, 118,\n       105, 172, 163, 167, 142, 154, 133, 180, 181, 173, 165, 168, 186,\n       140, 149, 145, 169, 188,  62,  84, 111,  65, 107,  63, 101,  87,\n       125,  94, 114, 171, 153, 170, 166, 141, 155, 179, 192, 131, 147,\n       151, 189,  79,  74, 110,  64,  67,  99, 123, 157, 117, 150, 182,\n       162, 160, 194, 135, 190,  69, 108,  89, 126, 156, 103, 146, 132,\n       177, 164, 176, 112,  75, 109,  91, 128, 175, 187, 148, 137, 184,\n       196, 144, 158, 119, 106,  66, 100,  90, 120, 115,  98, 159, 152,\n       185, 139, 143,  80, 124,  71, 134, 193,  78,  88, 122, 130,  81,\n        97, 138, 191,  76,  96, 198,  82,  95, 195, 183, 199, 200, 201,\n       197,  77,  83, 136, 205, 204, 202, 129, 206,  85, 209, 211, 207,\n       208, 203, 210, 127, 213, 212, 218, 216, 217, 214, 222, 220, 223,\n       229, 225, 228, 224, 231, 215, 233, 230, 235, 227, 221, 226, 219,\n       289, 245, 609, 261, 322, 276, 710, 511, 326, 281, 718, 551, 304,\n       639, 489, 299, 243, 630, 476, 655, 446, 286, 633, 435, 302, 644,\n       470, 332, 259, 702, 520, 300, 241, 668, 510, 237, 626, 507, 317,\n       624, 474, 240, 672, 306, 600, 383, 293, 258, 646, 444, 333, 279,\n       717, 342, 720, 547, 305, 642, 452, 313, 252, 664, 481, 277, 307,\n       264, 684, 479, 255, 657, 441, 312, 269, 716, 528, 320, 285, 726,\n       536, 283, 628, 469, 464, 677, 420, 247, 629, 424, 290, 473, 294,\n       722, 485, 297, 282, 719, 543, 253, 254, 678, 496, 275, 741, 512,\n       236, 234, 244, 239, 238, 242, 232, 249, 250, 251, 391, 539, 411,\n       486, 407, 330, 697, 246, 467, 263, 591, 248, 519, 425], dtype=int64)"
     },
     "execution_count": 9,
     "metadata": {},
     "output_type": "execute_result"
    }
   ],
   "source": [
    "train['onpromotion'].unique()"
   ],
   "metadata": {
    "collapsed": false,
    "ExecuteTime": {
     "end_time": "2023-09-23T16:15:49.225719800Z",
     "start_time": "2023-09-23T16:15:49.204296700Z"
    }
   }
  },
  {
   "cell_type": "code",
   "execution_count": 12,
   "outputs": [
    {
     "data": {
      "text/plain": "0.0"
     },
     "execution_count": 12,
     "metadata": {},
     "output_type": "execute_result"
    }
   ],
   "source": [
    "train['sales'].min()"
   ],
   "metadata": {
    "collapsed": false,
    "ExecuteTime": {
     "end_time": "2023-09-23T17:52:49.248298700Z",
     "start_time": "2023-09-23T17:52:49.238041800Z"
    }
   }
  },
  {
   "cell_type": "code",
   "execution_count": 15,
   "outputs": [
    {
     "data": {
      "text/plain": "0.0"
     },
     "execution_count": 15,
     "metadata": {},
     "output_type": "execute_result"
    }
   ],
   "source": [
    "(train[train['family'] == 'DAIRY'])['sales'].min()"
   ],
   "metadata": {
    "collapsed": false,
    "ExecuteTime": {
     "end_time": "2023-09-23T17:55:58.049148600Z",
     "start_time": "2023-09-23T17:55:57.919545600Z"
    }
   }
  },
  {
   "cell_type": "code",
   "execution_count": null,
   "outputs": [],
   "source": [],
   "metadata": {
    "collapsed": false
   }
  }
 ],
 "metadata": {
  "kernelspec": {
   "display_name": "Python 3",
   "language": "python",
   "name": "python3"
  },
  "language_info": {
   "codemirror_mode": {
    "name": "ipython",
    "version": 2
   },
   "file_extension": ".py",
   "mimetype": "text/x-python",
   "name": "python",
   "nbconvert_exporter": "python",
   "pygments_lexer": "ipython2",
   "version": "2.7.6"
  }
 },
 "nbformat": 4,
 "nbformat_minor": 0
}
